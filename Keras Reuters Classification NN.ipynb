{
 "cells": [
  {
   "cell_type": "code",
   "execution_count": 1,
   "metadata": {},
   "outputs": [],
   "source": [
    "import numpy as np\n",
    "import pandas as pd\n",
    "import matplotlib.pyplot as plt\n",
    "import tensorflow as tf\n",
    "from tensorflow.keras import models, layers, datasets\n",
    "import seaborn as sns"
   ]
  },
  {
   "cell_type": "code",
   "execution_count": 2,
   "metadata": {},
   "outputs": [
    {
     "name": "stdout",
     "output_type": "stream",
     "text": [
      "Downloading data from https://storage.googleapis.com/tensorflow/tf-keras-datasets/reuters.npz\n",
      "2113536/2110848 [==============================] - 5s 3us/step\n"
     ]
    }
   ],
   "source": [
    "(train_data, train_labels), (test_data, test_labels) = datasets.reuters.load_data(num_words=10000)"
   ]
  },
  {
   "cell_type": "code",
   "execution_count": 3,
   "metadata": {},
   "outputs": [
    {
     "data": {
      "text/plain": [
       "(8982,)"
      ]
     },
     "execution_count": 3,
     "metadata": {},
     "output_type": "execute_result"
    }
   ],
   "source": [
    "train_data.shape"
   ]
  },
  {
   "cell_type": "code",
   "execution_count": 4,
   "metadata": {},
   "outputs": [
    {
     "data": {
      "text/plain": [
       "(2246,)"
      ]
     },
     "execution_count": 4,
     "metadata": {},
     "output_type": "execute_result"
    }
   ],
   "source": [
    "test_data.shape"
   ]
  },
  {
   "cell_type": "code",
   "execution_count": 6,
   "metadata": {},
   "outputs": [
    {
     "data": {
      "text/plain": [
       "numpy.ndarray"
      ]
     },
     "execution_count": 6,
     "metadata": {},
     "output_type": "execute_result"
    }
   ],
   "source": [
    "type(train_data)"
   ]
  },
  {
   "cell_type": "code",
   "execution_count": 9,
   "metadata": {},
   "outputs": [],
   "source": [
    "def count_vectorizer(sequences, dimensions=10000):\n",
    "    results = np.zeros((len(sequences), dimensions))\n",
    "    for i, sequence in enumerate(sequences):\n",
    "        results[i, sequence] = 1\n",
    "    return results"
   ]
  },
  {
   "cell_type": "code",
   "execution_count": 10,
   "metadata": {},
   "outputs": [],
   "source": [
    "x_train = count_vectorizer(train_data)\n",
    "x_test = count_vectorizer(test_data)\n",
    "\n",
    "#one hot encoding of the 46 possible labels\n",
    "def one_hot_encoding(labels, dimensions=46):\n",
    "    results = np.zeros((len(labels), dimensions))\n",
    "    for i, label in enumerate(labels):\n",
    "        results[i, label] = 1\n",
    "    return results\n",
    "\n",
    "y_train = one_hot_encoding(train_labels)\n",
    "y_test = one_hot_encoding(test_labels)"
   ]
  },
  {
   "cell_type": "code",
   "execution_count": 11,
   "metadata": {},
   "outputs": [
    {
     "data": {
      "text/plain": [
       "(8982, 10000)"
      ]
     },
     "execution_count": 11,
     "metadata": {},
     "output_type": "execute_result"
    }
   ],
   "source": [
    "x_train.shape"
   ]
  },
  {
   "cell_type": "code",
   "execution_count": 12,
   "metadata": {},
   "outputs": [
    {
     "data": {
      "text/plain": [
       "(2246, 10000)"
      ]
     },
     "execution_count": 12,
     "metadata": {},
     "output_type": "execute_result"
    }
   ],
   "source": [
    "x_test.shape"
   ]
  },
  {
   "cell_type": "code",
   "execution_count": 13,
   "metadata": {},
   "outputs": [
    {
     "data": {
      "text/plain": [
       "(8982, 46)"
      ]
     },
     "execution_count": 13,
     "metadata": {},
     "output_type": "execute_result"
    }
   ],
   "source": [
    "y_train.shape"
   ]
  },
  {
   "cell_type": "code",
   "execution_count": 14,
   "metadata": {},
   "outputs": [
    {
     "data": {
      "text/plain": [
       "(2246, 46)"
      ]
     },
     "execution_count": 14,
     "metadata": {},
     "output_type": "execute_result"
    }
   ],
   "source": [
    "y_test.shape"
   ]
  },
  {
   "cell_type": "code",
   "execution_count": 15,
   "metadata": {},
   "outputs": [
    {
     "data": {
      "text/plain": [
       "array([0., 0., 0., 1., 0., 0., 0., 0., 0., 0., 0., 0., 0., 0., 0., 0., 0.,\n",
       "       0., 0., 0., 0., 0., 0., 0., 0., 0., 0., 0., 0., 0., 0., 0., 0., 0.,\n",
       "       0., 0., 0., 0., 0., 0., 0., 0., 0., 0., 0., 0.])"
      ]
     },
     "execution_count": 15,
     "metadata": {},
     "output_type": "execute_result"
    }
   ],
   "source": [
    "y_train[0]"
   ]
  },
  {
   "cell_type": "code",
   "execution_count": 22,
   "metadata": {},
   "outputs": [],
   "source": [
    "#keras has a util one hot encode function for categorical labels\n",
    "#import tensorflow.keras.utils.to_categorical\n",
    "#train_labels = to_categorical(train_labels)\n",
    "#test_labels = to_categorical(test_labels)\n",
    "#returns same encoding as our manual one_hot_encoding function"
   ]
  },
  {
   "cell_type": "code",
   "execution_count": 24,
   "metadata": {},
   "outputs": [],
   "source": [
    "#since we have 46 possible output categories(labels)\n",
    "#our hidden layers should contain more neurons to prevent information\n",
    "#bottlenecks\n",
    "\n",
    "#build a sequential model with an input layer that has 10000 neurons\n",
    "#since each review is a vectorized array len=10000\n",
    "#2 hidden layers each w/ 64 neurons and use ReLU activation function\n",
    "#output layer has 46 neurons and use a softmax activation function\n",
    "model = models.Sequential()\n",
    "model.add(layers.Dense(64, activation='relu', input_shape=(10000,)))\n",
    "model.add(layers.Dense(64, activation='relu'))\n",
    "model.add(layers.Dense(46, activation='softmax'))\n",
    "#for each input we output a 46 dimensional vector where each component i \n",
    "#represents the networks prediction probability that sample input belongs \n",
    "#to category i, all components of the output vector sum to 1.0\n",
    "\n",
    "\n",
    "#since we have multiclass output labels, use categorical_crossentropy as loss\n",
    "#crossentropy is a measure between the models predicted probability distribution\n",
    "#(last layer) against the true probability distribution\n",
    "model.compile(optimizer='rmsprop', loss='categorical_crossentropy', metrics=['accuracy'])"
   ]
  },
  {
   "cell_type": "code",
   "execution_count": 25,
   "metadata": {},
   "outputs": [],
   "source": [
    "#validation set\n",
    "x_val = x_train[:1000]\n",
    "partial_x_train = x_train[1000:]\n",
    "\n",
    "y_val = y_train[:1000]\n",
    "partial_y_train = y_train[1000:]"
   ]
  },
  {
   "cell_type": "code",
   "execution_count": 26,
   "metadata": {},
   "outputs": [
    {
     "name": "stdout",
     "output_type": "stream",
     "text": [
      "Epoch 1/20\n",
      "16/16 [==============================] - 1s 60ms/step - loss: 2.5793 - accuracy: 0.5287 - val_loss: 1.7307 - val_accuracy: 0.6460\n",
      "Epoch 2/20\n",
      "16/16 [==============================] - 1s 45ms/step - loss: 1.4048 - accuracy: 0.7082 - val_loss: 1.2998 - val_accuracy: 0.7110\n",
      "Epoch 3/20\n",
      "16/16 [==============================] - 1s 43ms/step - loss: 1.0399 - accuracy: 0.7764 - val_loss: 1.1362 - val_accuracy: 0.7680\n",
      "Epoch 4/20\n",
      "16/16 [==============================] - 1s 47ms/step - loss: 0.8221 - accuracy: 0.8222 - val_loss: 1.0331 - val_accuracy: 0.7700\n",
      "Epoch 5/20\n",
      "16/16 [==============================] - 1s 46ms/step - loss: 0.6618 - accuracy: 0.8582 - val_loss: 0.9755 - val_accuracy: 0.7990\n",
      "Epoch 6/20\n",
      "16/16 [==============================] - 1s 45ms/step - loss: 0.5291 - accuracy: 0.8901 - val_loss: 0.9355 - val_accuracy: 0.8040\n",
      "Epoch 7/20\n",
      "16/16 [==============================] - 1s 51ms/step - loss: 0.4352 - accuracy: 0.9045 - val_loss: 0.8956 - val_accuracy: 0.8240\n",
      "Epoch 8/20\n",
      "16/16 [==============================] - 1s 56ms/step - loss: 0.3564 - accuracy: 0.9263 - val_loss: 0.8850 - val_accuracy: 0.8190\n",
      "Epoch 9/20\n",
      "16/16 [==============================] - 1s 43ms/step - loss: 0.2953 - accuracy: 0.9376 - val_loss: 0.8906 - val_accuracy: 0.8160\n",
      "Epoch 10/20\n",
      "16/16 [==============================] - 1s 51ms/step - loss: 0.2486 - accuracy: 0.9446 - val_loss: 0.8966 - val_accuracy: 0.8180\n",
      "Epoch 11/20\n",
      "16/16 [==============================] - 1s 46ms/step - loss: 0.2166 - accuracy: 0.9493 - val_loss: 0.9068 - val_accuracy: 0.8200\n",
      "Epoch 12/20\n",
      "16/16 [==============================] - 1s 44ms/step - loss: 0.1909 - accuracy: 0.9524 - val_loss: 0.9244 - val_accuracy: 0.8180\n",
      "Epoch 13/20\n",
      "16/16 [==============================] - 1s 44ms/step - loss: 0.1671 - accuracy: 0.9513 - val_loss: 0.9444 - val_accuracy: 0.8140\n",
      "Epoch 14/20\n",
      "16/16 [==============================] - 1s 42ms/step - loss: 0.1574 - accuracy: 0.9549 - val_loss: 0.9551 - val_accuracy: 0.8130\n",
      "Epoch 15/20\n",
      "16/16 [==============================] - 1s 49ms/step - loss: 0.1422 - accuracy: 0.9539 - val_loss: 0.9686 - val_accuracy: 0.8110\n",
      "Epoch 16/20\n",
      "16/16 [==============================] - 1s 42ms/step - loss: 0.1309 - accuracy: 0.9573 - val_loss: 1.0078 - val_accuracy: 0.8110\n",
      "Epoch 17/20\n",
      "16/16 [==============================] - 1s 42ms/step - loss: 0.1310 - accuracy: 0.9562 - val_loss: 1.0072 - val_accuracy: 0.8140\n",
      "Epoch 18/20\n",
      "16/16 [==============================] - 1s 51ms/step - loss: 0.1207 - accuracy: 0.9564 - val_loss: 1.0494 - val_accuracy: 0.8010\n",
      "Epoch 19/20\n",
      "16/16 [==============================] - 1s 42ms/step - loss: 0.1108 - accuracy: 0.9577 - val_loss: 1.0681 - val_accuracy: 0.8020\n",
      "Epoch 20/20\n",
      "16/16 [==============================] - 1s 43ms/step - loss: 0.1152 - accuracy: 0.9554 - val_loss: 1.0255 - val_accuracy: 0.8170\n"
     ]
    }
   ],
   "source": [
    "#model.fit() returns a history object containing information for each epoch\n",
    "history = model.fit(partial_x_train, partial_y_train, epochs=20, batch_size=512, validation_data=(x_val, y_val))"
   ]
  },
  {
   "cell_type": "code",
   "execution_count": 29,
   "metadata": {},
   "outputs": [
    {
     "data": {
      "image/png": "[encoded data removed]",
      "text/plain": [
       "<Figure size 432x288 with 1 Axes>"
      ]
     },
     "metadata": {
      "needs_background": "light"
     },
     "output_type": "display_data"
    }
   ],
   "source": [
    "loss = history.history['loss']\n",
    "val_loss = history.history['val_loss']\n",
    "\n",
    "epochs = range(1, 21)\n",
    "\n",
    "plt.plot(epochs, loss, 'bo', label='Training Loss')\n",
    "plt.plot(epochs, val_loss, 'b', label='Validation Loss')\n",
    "plt.xlabel('Epoch #')\n",
    "plt.ylabel('Loss')\n",
    "plt.title('Training Loss Vs Validation Loss')\n",
    "plt.legend()\n",
    "plt.show()"
   ]
  },
  {
   "cell_type": "code",
   "execution_count": 32,
   "metadata": {},
   "outputs": [
    {
     "data": {
      "image/png": "[encoded data removed]",
      "text/plain": [
       "<Figure size 432x288 with 1 Axes>"
      ]
     },
     "metadata": {
      "needs_background": "light"
     },
     "output_type": "display_data"
    }
   ],
   "source": [
    "acc = history.history['accuracy']\n",
    "val_acc = history.history['val_accuracy']\n",
    "\n",
    "epochs = range(1, 21)\n",
    "\n",
    "plt.plot(epochs, acc, 'bo', label='Training Accuracy')\n",
    "plt.plot(epochs, val_acc, 'b', label='Validation Accuracy')\n",
    "plt.xlabel('Epoch #')\n",
    "plt.ylabel('Accuracy')\n",
    "plt.title('Training Accuracy Vs Validation Accuracy')\n",
    "plt.legend()\n",
    "plt.show()"
   ]
  },
  {
   "cell_type": "code",
   "execution_count": 31,
   "metadata": {},
   "outputs": [
    {
     "data": {
      "text/plain": [
       "dict_keys(['loss', 'accuracy', 'val_loss', 'val_accuracy'])"
      ]
     },
     "execution_count": 31,
     "metadata": {},
     "output_type": "execute_result"
    }
   ],
   "source": [
    "history.history.keys()"
   ]
  },
  {
   "cell_type": "code",
   "execution_count": 33,
   "metadata": {},
   "outputs": [
    {
     "name": "stdout",
     "output_type": "stream",
     "text": [
      "Epoch 1/9\n",
      "18/18 [==============================] - 1s 48ms/step - loss: 2.5367 - accuracy: 0.5173\n",
      "Epoch 2/9\n",
      "18/18 [==============================] - 1s 52ms/step - loss: 1.3506 - accuracy: 0.7214\n",
      "Epoch 3/9\n",
      "18/18 [==============================] - 1s 62ms/step - loss: 1.0053 - accuracy: 0.7927\n",
      "Epoch 4/9\n",
      "18/18 [==============================] - 1s 41ms/step - loss: 0.7919 - accuracy: 0.8339\n",
      "Epoch 5/9\n",
      "18/18 [==============================] - 1s 39ms/step - loss: 0.6306 - accuracy: 0.8653\n",
      "Epoch 6/9\n",
      "18/18 [==============================] - 1s 49ms/step - loss: 0.5030 - accuracy: 0.8962\n",
      "Epoch 7/9\n",
      "18/18 [==============================] - 1s 46ms/step - loss: 0.4009 - accuracy: 0.9178\n",
      "Epoch 8/9\n",
      "18/18 [==============================] - 1s 38ms/step - loss: 0.3286 - accuracy: 0.9300\n",
      "Epoch 9/9\n",
      "18/18 [==============================] - 1s 36ms/step - loss: 0.2737 - accuracy: 0.9364\n"
     ]
    },
    {
     "data": {
      "text/plain": [
       "<tensorflow.python.keras.callbacks.History at 0x21401f5a5f8>"
      ]
     },
     "execution_count": 33,
     "metadata": {},
     "output_type": "execute_result"
    }
   ],
   "source": [
    "#our model begins to overfit after 9 epochs, only 9 iterations over all training\n",
    "#data is necessary to mitigate overfitting \n",
    "\n",
    "model = models.Sequential()\n",
    "model.add(layers.Dense(64, activation='relu', input_shape=(10000,)))\n",
    "model.add(layers.Dense(64, activation='relu'))\n",
    "model.add(layers.Dense(46, activation='softmax'))\n",
    "\n",
    "model.compile(optimizer='rmsprop', loss='categorical_crossentropy', metrics=['accuracy'])\n",
    "\n",
    "model.fit(x_train, y_train, epochs=9, batch_size=512)"
   ]
  },
  {
   "cell_type": "code",
   "execution_count": 34,
   "metadata": {},
   "outputs": [
    {
     "name": "stdout",
     "output_type": "stream",
     "text": [
      "71/71 [==============================] - 0s 3ms/step - loss: 0.9481 - accuracy: 0.7930\n"
     ]
    }
   ],
   "source": [
    "results = model.evaluate(x_test, y_test)"
   ]
  },
  {
   "cell_type": "code",
   "execution_count": 35,
   "metadata": {},
   "outputs": [
    {
     "data": {
      "text/plain": [
       "array([1.18234748e-05, 1.71479289e-04, 8.68429430e-04, 8.95581663e-01,\n",
       "       8.45817626e-02, 6.02618320e-06, 2.09662874e-04, 1.15645576e-04,\n",
       "       3.14628845e-03, 9.70451292e-05, 1.72518667e-05, 4.93066211e-04,\n",
       "       8.02752766e-05, 3.40496277e-04, 1.48274354e-04, 3.79851554e-05,\n",
       "       6.23152917e-03, 1.11464364e-03, 1.26111345e-05, 5.87454124e-04,\n",
       "       1.33160502e-03, 2.39518777e-04, 2.06597062e-04, 9.00590167e-05,\n",
       "       2.68771226e-04, 1.59334333e-04, 6.73716349e-05, 3.91168542e-05,\n",
       "       6.61907106e-05, 1.91900850e-04, 8.19803608e-05, 1.31698078e-04,\n",
       "       3.61456710e-04, 1.53593763e-04, 2.19613848e-05, 7.95081942e-05,\n",
       "       1.24006896e-04, 6.98962467e-05, 9.66008956e-05, 1.87325128e-03,\n",
       "       2.09542031e-05, 2.01197472e-04, 4.17321426e-05, 3.75401432e-05,\n",
       "       1.13584501e-05, 1.79335853e-04], dtype=float32)"
      ]
     },
     "execution_count": 35,
     "metadata": {},
     "output_type": "execute_result"
    }
   ],
   "source": [
    "#generating predictions with our trained model\n",
    "predictions = model.predict(x_test)\n",
    "predictions[0]"
   ]
  },
  {
   "cell_type": "code",
   "execution_count": 36,
   "metadata": {},
   "outputs": [
    {
     "data": {
      "text/plain": [
       "3"
      ]
     },
     "execution_count": 36,
     "metadata": {},
     "output_type": "execute_result"
    }
   ],
   "source": [
    "#to get the class witht he maximal probability use np,argmax\n",
    "np.argmax(predictions[0])"
   ]
  },
  {
   "cell_type": "code",
   "execution_count": null,
   "metadata": {},
   "outputs": [],
   "source": []
  }
 ],
 "metadata": {
  "kernelspec": {
   "display_name": "Python 3",
   "language": "python",
   "name": "python3"
  },
  "language_info": {
   "codemirror_mode": {
    "name": "ipython",
    "version": 3
   },
   "file_extension": ".py",
   "mimetype": "text/x-python",
   "name": "python",
   "nbconvert_exporter": "python",
   "pygments_lexer": "ipython3",
   "version": "3.6.10"
  }
 },
 "nbformat": 4,
 "nbformat_minor": 4
}
