{
 "cells": [
  {
   "cell_type": "code",
   "execution_count": 2,
   "metadata": {},
   "outputs": [],
   "source": [
    "import numpy as np\n",
    "import pandas as pd\n",
    "import matplotlib.pyplot as plt\n",
    "import seaborn as sns\n",
    "import tensorflow as tf\n",
    "from tensorflow.keras import layers, models, optimizers, datasets"
   ]
  },
  {
   "cell_type": "code",
   "execution_count": 3,
   "metadata": {},
   "outputs": [
    {
     "name": "stdout",
     "output_type": "stream",
     "text": [
      "Downloading data from https://storage.googleapis.com/tensorflow/tf-keras-datasets/imdb.npz\n",
      "17465344/17464789 [==============================] - 44s 3us/step\n"
     ]
    }
   ],
   "source": [
    "(train_data, train_labels), (test_data, test_labels) = datasets.imdb.load_data(num_words=10000)"
   ]
  },
  {
   "cell_type": "code",
   "execution_count": 33,
   "metadata": {},
   "outputs": [
    {
     "data": {
      "text/plain": [
       "numpy.ndarray"
      ]
     },
     "execution_count": 33,
     "metadata": {},
     "output_type": "execute_result"
    }
   ],
   "source": [
    "type(train_labels)"
   ]
  },
  {
   "cell_type": "code",
   "execution_count": 7,
   "metadata": {},
   "outputs": [],
   "source": [
    "#to convert to a bag of words\n",
    "def vectorize_sequences(sequences, dimension=10000):\n",
    "    results = np.zeros((len(sequences), dimension))\n",
    "    for i, sequence in enumerate(sequences):\n",
    "        results[i, sequence] = 1\n",
    "    return results"
   ]
  },
  {
   "cell_type": "code",
   "execution_count": 11,
   "metadata": {},
   "outputs": [],
   "source": [
    "x_train = vectorize_sequences(train_data)\n",
    "x_test = vectorize_sequences(test_data)\n",
    "\n",
    "y_train = np.asarray(train_labels).astype('float32')\n",
    "y_test = np.asarray(test_labels).astype('float32')"
   ]
  },
  {
   "cell_type": "code",
   "execution_count": 9,
   "metadata": {
    "scrolled": true
   },
   "outputs": [
    {
     "data": {
      "text/plain": [
       "array([0., 1., 1., ..., 0., 0., 0.])"
      ]
     },
     "execution_count": 9,
     "metadata": {},
     "output_type": "execute_result"
    }
   ],
   "source": [
    "x_train[0]"
   ]
  },
  {
   "cell_type": "code",
   "execution_count": 10,
   "metadata": {},
   "outputs": [
    {
     "data": {
      "text/plain": [
       "(25000, 10000)"
      ]
     },
     "execution_count": 10,
     "metadata": {},
     "output_type": "execute_result"
    }
   ],
   "source": [
    "x_train.shape"
   ]
  },
  {
   "cell_type": "code",
   "execution_count": 12,
   "metadata": {},
   "outputs": [],
   "source": [
    "model = models.Sequential()\n",
    "model.add(layers.Dense(16, activation='relu', input_shape=(10000,)))\n",
    "model.add(layers.Dense(16, activation='relu'))\n",
    "model.add(layers.Dense(1, activation='sigmoid'))"
   ]
  },
  {
   "cell_type": "code",
   "execution_count": 17,
   "metadata": {},
   "outputs": [],
   "source": [
    "model.compile(optimizer=optimizers.RMSprop(lr=0.001), loss='binary_crossentropy', metrics=['acc'])"
   ]
  },
  {
   "cell_type": "code",
   "execution_count": 18,
   "metadata": {},
   "outputs": [],
   "source": [
    "x_val = x_train[:10000]\n",
    "partial_x_train = x_train[10000:]\n",
    "\n",
    "y_val = y_train[:10000]\n",
    "partial_y_train = y_train[10000:]"
   ]
  },
  {
   "cell_type": "code",
   "execution_count": 19,
   "metadata": {},
   "outputs": [
    {
     "name": "stdout",
     "output_type": "stream",
     "text": [
      "Epoch 1/20\n",
      "30/30 [==============================] - 7s 226ms/step - loss: 0.5595 - acc: 0.7841 - val_loss: 0.4376 - val_acc: 0.8601\n",
      "Epoch 2/20\n",
      "30/30 [==============================] - 1s 34ms/step - loss: 0.3513 - acc: 0.8935 - val_loss: 0.3284 - val_acc: 0.8823\n",
      "Epoch 3/20\n",
      "30/30 [==============================] - 1s 30ms/step - loss: 0.2528 - acc: 0.9177 - val_loss: 0.2883 - val_acc: 0.8885\n",
      "Epoch 4/20\n",
      "30/30 [==============================] - 1s 32ms/step - loss: 0.1985 - acc: 0.9347 - val_loss: 0.2735 - val_acc: 0.8926\n",
      "Epoch 5/20\n",
      "30/30 [==============================] - 1s 31ms/step - loss: 0.1615 - acc: 0.9474 - val_loss: 0.2715 - val_acc: 0.8928\n",
      "Epoch 6/20\n",
      "30/30 [==============================] - 1s 32ms/step - loss: 0.1331 - acc: 0.9585 - val_loss: 0.2903 - val_acc: 0.8842\n",
      "Epoch 7/20\n",
      "30/30 [==============================] - 1s 35ms/step - loss: 0.1130 - acc: 0.9655 - val_loss: 0.3029 - val_acc: 0.8836\n",
      "Epoch 8/20\n",
      "30/30 [==============================] - 1s 31ms/step - loss: 0.0952 - acc: 0.9707 - val_loss: 0.3150 - val_acc: 0.8842\n",
      "Epoch 9/20\n",
      "30/30 [==============================] - 1s 30ms/step - loss: 0.0776 - acc: 0.9778 - val_loss: 0.3519 - val_acc: 0.8781\n",
      "Epoch 10/20\n",
      "30/30 [==============================] - 1s 30ms/step - loss: 0.0662 - acc: 0.9819 - val_loss: 0.3598 - val_acc: 0.8786\n",
      "Epoch 11/20\n",
      "30/30 [==============================] - 1s 31ms/step - loss: 0.0560 - acc: 0.9840 - val_loss: 0.4000 - val_acc: 0.8730\n",
      "Epoch 12/20\n",
      "30/30 [==============================] - 1s 28ms/step - loss: 0.0455 - acc: 0.9888 - val_loss: 0.4119 - val_acc: 0.8780\n",
      "Epoch 13/20\n",
      "30/30 [==============================] - 1s 33ms/step - loss: 0.0392 - acc: 0.9909 - val_loss: 0.4424 - val_acc: 0.8723\n",
      "Epoch 14/20\n",
      "30/30 [==============================] - 1s 30ms/step - loss: 0.0319 - acc: 0.9926 - val_loss: 0.4772 - val_acc: 0.8741\n",
      "Epoch 15/20\n",
      "30/30 [==============================] - 1s 33ms/step - loss: 0.0253 - acc: 0.9953 - val_loss: 0.4971 - val_acc: 0.8731\n",
      "Epoch 16/20\n",
      "30/30 [==============================] - 1s 29ms/step - loss: 0.0214 - acc: 0.9962 - val_loss: 0.5279 - val_acc: 0.8736\n",
      "Epoch 17/20\n",
      "30/30 [==============================] - 1s 33ms/step - loss: 0.0171 - acc: 0.9976 - val_loss: 0.5861 - val_acc: 0.8679\n",
      "Epoch 18/20\n",
      "30/30 [==============================] - 1s 32ms/step - loss: 0.0116 - acc: 0.9991 - val_loss: 0.5985 - val_acc: 0.8712\n",
      "Epoch 19/20\n",
      "30/30 [==============================] - 1s 30ms/step - loss: 0.0108 - acc: 0.9989 - val_loss: 0.7069 - val_acc: 0.8549\n",
      "Epoch 20/20\n",
      "30/30 [==============================] - 1s 33ms/step - loss: 0.0079 - acc: 0.9994 - val_loss: 0.6789 - val_acc: 0.8666\n"
     ]
    }
   ],
   "source": [
    "history = model.fit(partial_x_train, partial_y_train, epochs=20, batch_size=512, validation_data=(x_val, y_val))"
   ]
  },
  {
   "cell_type": "code",
   "execution_count": 25,
   "metadata": {},
   "outputs": [
    {
     "data": {
      "image/png": "[encoded data removed]",
      "text/plain": [
       "<Figure size 432x288 with 1 Axes>"
      ]
     },
     "metadata": {
      "needs_background": "light"
     },
     "output_type": "display_data"
    }
   ],
   "source": [
    "history_dict = history.history\n",
    "loss_values = history_dict['loss']\n",
    "val_loss_values = history_dict['val_loss']\n",
    "\n",
    "epochs = range(1, 21)\n",
    "\n",
    "plt.plot(epochs, loss_values, 'bo', label='Training Loss')\n",
    "plt.plot(epochs, val_loss_values, 'b', label='Validation Loss')\n",
    "plt.title('Training and Validation Loss')\n",
    "plt.xlabel('Epochs')\n",
    "plt.ylabel('Loss')\n",
    "plt.legend()\n",
    "plt.show()"
   ]
  },
  {
   "cell_type": "code",
   "execution_count": 27,
   "metadata": {},
   "outputs": [
    {
     "data": {
      "image/png": "[encoded data removed]",
      "text/plain": [
       "<Figure size 432x288 with 1 Axes>"
      ]
     },
     "metadata": {
      "needs_background": "light"
     },
     "output_type": "display_data"
    }
   ],
   "source": [
    "acc_values = history_dict['acc']\n",
    "val_acc_values = history_dict['val_acc']\n",
    "\n",
    "epochs = list(range(1, 21))\n",
    "\n",
    "plt.plot(epochs, acc_values, 'bo', label='Training Accuracy')\n",
    "plt.plot(epochs, val_acc_values, 'b', label='Validation Accuracy')\n",
    "plt.title('Training and Validation Accuracy')\n",
    "plt.xlabel('Epochs')\n",
    "plt.ylabel('Accuracy')\n",
    "plt.legend()\n",
    "plt.show()"
   ]
  },
  {
   "cell_type": "code",
   "execution_count": 29,
   "metadata": {},
   "outputs": [
    {
     "name": "stdout",
     "output_type": "stream",
     "text": [
      "Epoch 1/4\n",
      "49/49 [==============================] - 1s 27ms/step - loss: 0.4517 - accuracy: 0.8253\n",
      "Epoch 2/4\n",
      "49/49 [==============================] - 1s 26ms/step - loss: 0.2615 - accuracy: 0.9092\n",
      "Epoch 3/4\n",
      "49/49 [==============================] - 1s 25ms/step - loss: 0.2038 - accuracy: 0.9275\n",
      "Epoch 4/4\n",
      "49/49 [==============================] - 1s 25ms/step - loss: 0.1688 - accuracy: 0.9409\n",
      "782/782 [==============================] - 2s 2ms/step - loss: 0.2924 - accuracy: 0.8849\n"
     ]
    },
    {
     "data": {
      "text/plain": [
       "[0.2924225330352783, 0.8849200010299683]"
      ]
     },
     "execution_count": 29,
     "metadata": {},
     "output_type": "execute_result"
    }
   ],
   "source": [
    "#above graphs demonstrate model overfitting, since validation set peaks\n",
    "#4 epochs is adequate to prevent an overfitted model\n",
    "#an overfitted model just memorizes data patterns too much from training set\n",
    "#and fails to generalize these patterns to new, unseen, test data\n",
    "model = models.Sequential()\n",
    "model.add(layers.Dense(16, activation='relu', input_shape=(10000,)))\n",
    "model.add(layers.Dense(16, activation='relu'))\n",
    "model.add(layers.Dense(1, activation='sigmoid'))\n",
    "\n",
    "model.compile(optimizer='rmsprop', loss='binary_crossentropy', metrics=['accuracy'])\n",
    "model.fit(x_train, y_train, epochs=4, batch_size=512)\n",
    "model.evaluate(x_test, y_test)"
   ]
  },
  {
   "cell_type": "code",
   "execution_count": 31,
   "metadata": {},
   "outputs": [
    {
     "data": {
      "text/plain": [
       "array([[0.19368607],\n",
       "       [0.9999567 ],\n",
       "       [0.8489101 ],\n",
       "       ...,\n",
       "       [0.11284569],\n",
       "       [0.072557  ],\n",
       "       [0.5727276 ]], dtype=float32)"
      ]
     },
     "execution_count": 31,
     "metadata": {},
     "output_type": "execute_result"
    }
   ],
   "source": [
    "#model accuracy for test_set = 88.5%\n",
    "#using our trained neural network model to make predictions\n",
    "model.predict(x_test)"
   ]
  },
  {
   "cell_type": "code",
   "execution_count": null,
   "metadata": {},
   "outputs": [],
   "source": []
  }
 ],
 "metadata": {
  "kernelspec": {
   "display_name": "Python 3",
   "language": "python",
   "name": "python3"
  },
  "language_info": {
   "codemirror_mode": {
    "name": "ipython",
    "version": 3
   },
   "file_extension": ".py",
   "mimetype": "text/x-python",
   "name": "python",
   "nbconvert_exporter": "python",
   "pygments_lexer": "ipython3",
   "version": "3.6.10"
  }
 },
 "nbformat": 4,
 "nbformat_minor": 4
}
